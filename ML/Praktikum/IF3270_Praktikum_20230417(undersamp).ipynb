{
  "cells": [
    {
      "cell_type": "markdown",
      "metadata": {
        "id": "SoGaJ5hdHDks"
      },
      "source": [
        "# Prediksi Hujan di Denpasar"
      ]
    },
    {
      "cell_type": "markdown",
      "metadata": {
        "id": "ItTeRrAzHDkv"
      },
      "source": [
        "Praktikum ini menggunakan _dataset_ [Denpasar Weather Data](https://www.kaggle.com/datasets/cornflake15/denpasarbalihistoricalweatherdata?select=openweatherdata-denpasar-1990-2020v0.1.csv) dengan modifikasi. _Dataset_ digunakan untuk melakukan prediksi penarikan kesimpulan kebenaran kondisi hujan pada kondisi tertentu. Hal itu diperoleh dengan meninjau `raining` (diekstrak dari `weather_main`) sebagai target. Fitur yang digunakan adalah sebagai berikut:\n",
        "- `hour` (diekstrak dari `dt_iso`)\n",
        "- `temp`\n",
        "- `temp_min`\n",
        "- `temp_max`\n",
        "- `pressure`\n",
        "- `humidity`\n",
        "- `wind_speed`\n",
        "- `wind_deg`\n",
        "\n",
        "Tujuan praktikum:\n",
        "1.   Peserta memahami rangkaian proses analitik data menggunakan pendekatan pembelajaran mesin. \n",
        "2.   Peserta memahami bahwa proses pengembangan model pembelajaran mesin juga ditentukan dari kualitas data, penanganan data, dan penentuan algoritma serta hiperparameternya; tidak cukup hanya dengan memastikan implementasi algoritma berjalan tanpa kesalahan.\n",
        "3.   Peserta mampu menginterpretasikan hasil dari evaluasi model dalam proses analitik menggunakan pendekatan pembelajaran mesin.\n",
        "\n",
        "Praktikum dilaksanakan secara berkelompok. Setiap kelompok terdiri atas 2 mahasiswa. Perhatikan bahwa terdapat berkas yang harus dikumpulkan sebelum waktu praktikum selesai (17 April 2023, pukul 10.59 WIB) dan berkas yang dikumpulkan setelah waktu praktikum selesai (17 April 2023, pukul 23.59 WIB)."
      ]
    },
    {
      "cell_type": "markdown",
      "metadata": {
        "id": "q-32P9nmHDkv"
      },
      "source": [
        "# Persiapan Data"
      ]
    },
    {
      "cell_type": "code",
      "execution_count": null,
      "metadata": {
        "id": "gGlKGIB3das2"
      },
      "outputs": [],
      "source": [
        "!wget https://developer.nvidia.com/compute/cuda/9.0/Prod/local_installers/cuda-repo-ubuntu1704-9-0-local_9.0.176-1_amd64-deb\n",
        "!ls  # Check if required cuda 9.0 amd64-deb file is downloaded\n",
        "!dpkg -i cuda-repo-ubuntu1704-9-0-local_9.0.176-1_amd64-deb\n",
        "!ls /var/cuda-repo-9-0-local | grep .pub\n",
        "!apt-key add /var/cuda-repo-9-0-local/7fa2af80.pub\n",
        "!apt-get update\n",
        "!sudo apt-get install cuda-9.0\n",
        "!pip install thundersvm\n",
        "!pip install thundersvm-cpu"
      ]
    },
    {
      "cell_type": "code",
      "execution_count": 1,
      "metadata": {
        "id": "zLdGw_aWHDkw"
      },
      "outputs": [
        {
          "name": "stderr",
          "output_type": "stream",
          "text": [
            "Intel(R) Extension for Scikit-learn* enabled (https://github.com/intel/scikit-learn-intelex)\n"
          ]
        }
      ],
      "source": [
        "from sklearnex import patch_sklearn \n",
        "patch_sklearn()\n",
        "\n",
        "import pandas as pd\n",
        "from sklearn.model_selection import train_test_split\n",
        "from sklearn.linear_model import LogisticRegression\n",
        "from sklearn.metrics import accuracy_score, confusion_matrix, roc_auc_score, f1_score, precision_score, recall_score, classification_report\n",
        "from sklearn.preprocessing import OneHotEncoder, MinMaxScaler\n",
        "from sklearn.ensemble import VotingClassifier, StackingClassifier\n",
        "from imblearn.under_sampling import RandomUnderSampler\n",
        "from imblearn.over_sampling import SMOTE\n",
        "\n",
        "import seaborn as sns\n",
        "import matplotlib.pyplot as plt\n",
        "\n",
        "\n",
        "from sklearn.svm import SVC # your usual code without any changes\n",
        "# from thundersvm import SVC\n",
        "from sklearn.svm import SVC\n",
        "from sklearn.model_selection import GridSearchCV"
      ]
    },
    {
      "cell_type": "code",
      "execution_count": null,
      "metadata": {
        "id": "DtrK6yjyKCLf"
      },
      "outputs": [],
      "source": [
        "#Colab\n",
        "from google.colab import files\n",
        "uploaded = files.upload()"
      ]
    },
    {
      "cell_type": "code",
      "execution_count": 2,
      "metadata": {
        "colab": {
          "base_uri": "https://localhost:8080/",
          "height": 424
        },
        "id": "wnIwsRnAHDkx",
        "outputId": "6fd2f22f-57db-4b51-8c8d-ba40a9bc377a"
      },
      "outputs": [
        {
          "data": {
            "text/html": [
              "<div>\n",
              "<style scoped>\n",
              "    .dataframe tbody tr th:only-of-type {\n",
              "        vertical-align: middle;\n",
              "    }\n",
              "\n",
              "    .dataframe tbody tr th {\n",
              "        vertical-align: top;\n",
              "    }\n",
              "\n",
              "    .dataframe thead th {\n",
              "        text-align: right;\n",
              "    }\n",
              "</style>\n",
              "<table border=\"1\" class=\"dataframe\">\n",
              "  <thead>\n",
              "    <tr style=\"text-align: right;\">\n",
              "      <th></th>\n",
              "      <th>hour</th>\n",
              "      <th>temp</th>\n",
              "      <th>temp_min</th>\n",
              "      <th>temp_max</th>\n",
              "      <th>pressure</th>\n",
              "      <th>humidity</th>\n",
              "      <th>wind_speed</th>\n",
              "      <th>wind_deg</th>\n",
              "      <th>raining</th>\n",
              "    </tr>\n",
              "  </thead>\n",
              "  <tbody>\n",
              "    <tr>\n",
              "      <th>0</th>\n",
              "      <td>0</td>\n",
              "      <td>25.82</td>\n",
              "      <td>25.82</td>\n",
              "      <td>25.82</td>\n",
              "      <td>1010.0</td>\n",
              "      <td>86</td>\n",
              "      <td>1.36</td>\n",
              "      <td>225</td>\n",
              "      <td>True</td>\n",
              "    </tr>\n",
              "    <tr>\n",
              "      <th>1</th>\n",
              "      <td>1</td>\n",
              "      <td>26.20</td>\n",
              "      <td>26.20</td>\n",
              "      <td>26.20</td>\n",
              "      <td>1011.0</td>\n",
              "      <td>84</td>\n",
              "      <td>2.09</td>\n",
              "      <td>247</td>\n",
              "      <td>True</td>\n",
              "    </tr>\n",
              "    <tr>\n",
              "      <th>2</th>\n",
              "      <td>2</td>\n",
              "      <td>26.45</td>\n",
              "      <td>26.45</td>\n",
              "      <td>26.45</td>\n",
              "      <td>1011.0</td>\n",
              "      <td>84</td>\n",
              "      <td>2.44</td>\n",
              "      <td>262</td>\n",
              "      <td>True</td>\n",
              "    </tr>\n",
              "    <tr>\n",
              "      <th>3</th>\n",
              "      <td>3</td>\n",
              "      <td>26.80</td>\n",
              "      <td>26.80</td>\n",
              "      <td>26.80</td>\n",
              "      <td>1011.0</td>\n",
              "      <td>82</td>\n",
              "      <td>2.29</td>\n",
              "      <td>271</td>\n",
              "      <td>True</td>\n",
              "    </tr>\n",
              "    <tr>\n",
              "      <th>4</th>\n",
              "      <td>4</td>\n",
              "      <td>27.04</td>\n",
              "      <td>27.04</td>\n",
              "      <td>27.04</td>\n",
              "      <td>1010.0</td>\n",
              "      <td>82</td>\n",
              "      <td>1.71</td>\n",
              "      <td>274</td>\n",
              "      <td>False</td>\n",
              "    </tr>\n",
              "    <tr>\n",
              "      <th>...</th>\n",
              "      <td>...</td>\n",
              "      <td>...</td>\n",
              "      <td>...</td>\n",
              "      <td>...</td>\n",
              "      <td>...</td>\n",
              "      <td>...</td>\n",
              "      <td>...</td>\n",
              "      <td>...</td>\n",
              "      <td>...</td>\n",
              "    </tr>\n",
              "    <tr>\n",
              "      <th>264919</th>\n",
              "      <td>19</td>\n",
              "      <td>27.00</td>\n",
              "      <td>27.00</td>\n",
              "      <td>27.00</td>\n",
              "      <td>1007.0</td>\n",
              "      <td>94</td>\n",
              "      <td>4.10</td>\n",
              "      <td>300</td>\n",
              "      <td>False</td>\n",
              "    </tr>\n",
              "    <tr>\n",
              "      <th>264920</th>\n",
              "      <td>20</td>\n",
              "      <td>27.00</td>\n",
              "      <td>27.00</td>\n",
              "      <td>27.00</td>\n",
              "      <td>1007.0</td>\n",
              "      <td>94</td>\n",
              "      <td>5.70</td>\n",
              "      <td>300</td>\n",
              "      <td>False</td>\n",
              "    </tr>\n",
              "    <tr>\n",
              "      <th>264921</th>\n",
              "      <td>21</td>\n",
              "      <td>28.00</td>\n",
              "      <td>28.00</td>\n",
              "      <td>28.00</td>\n",
              "      <td>1007.0</td>\n",
              "      <td>83</td>\n",
              "      <td>6.70</td>\n",
              "      <td>290</td>\n",
              "      <td>False</td>\n",
              "    </tr>\n",
              "    <tr>\n",
              "      <th>264922</th>\n",
              "      <td>22</td>\n",
              "      <td>28.00</td>\n",
              "      <td>28.00</td>\n",
              "      <td>28.00</td>\n",
              "      <td>1007.0</td>\n",
              "      <td>83</td>\n",
              "      <td>6.20</td>\n",
              "      <td>290</td>\n",
              "      <td>False</td>\n",
              "    </tr>\n",
              "    <tr>\n",
              "      <th>264923</th>\n",
              "      <td>23</td>\n",
              "      <td>28.00</td>\n",
              "      <td>28.00</td>\n",
              "      <td>28.00</td>\n",
              "      <td>1008.0</td>\n",
              "      <td>83</td>\n",
              "      <td>5.70</td>\n",
              "      <td>300</td>\n",
              "      <td>False</td>\n",
              "    </tr>\n",
              "  </tbody>\n",
              "</table>\n",
              "<p>264924 rows × 9 columns</p>\n",
              "</div>"
            ],
            "text/plain": [
              "        hour   temp  temp_min  temp_max  pressure  humidity  wind_speed  \\\n",
              "0          0  25.82     25.82     25.82    1010.0        86        1.36   \n",
              "1          1  26.20     26.20     26.20    1011.0        84        2.09   \n",
              "2          2  26.45     26.45     26.45    1011.0        84        2.44   \n",
              "3          3  26.80     26.80     26.80    1011.0        82        2.29   \n",
              "4          4  27.04     27.04     27.04    1010.0        82        1.71   \n",
              "...      ...    ...       ...       ...       ...       ...         ...   \n",
              "264919    19  27.00     27.00     27.00    1007.0        94        4.10   \n",
              "264920    20  27.00     27.00     27.00    1007.0        94        5.70   \n",
              "264921    21  28.00     28.00     28.00    1007.0        83        6.70   \n",
              "264922    22  28.00     28.00     28.00    1007.0        83        6.20   \n",
              "264923    23  28.00     28.00     28.00    1008.0        83        5.70   \n",
              "\n",
              "        wind_deg  raining  \n",
              "0            225     True  \n",
              "1            247     True  \n",
              "2            262     True  \n",
              "3            271     True  \n",
              "4            274    False  \n",
              "...          ...      ...  \n",
              "264919       300    False  \n",
              "264920       300    False  \n",
              "264921       290    False  \n",
              "264922       290    False  \n",
              "264923       300    False  \n",
              "\n",
              "[264924 rows x 9 columns]"
            ]
          },
          "execution_count": 2,
          "metadata": {},
          "output_type": "execute_result"
        }
      ],
      "source": [
        "data = pd.read_csv(\"openweatherdata-denpasar-1990-2020v0.1-simplified.csv\")\n",
        "data\n"
      ]
    },
    {
      "cell_type": "code",
      "execution_count": 3,
      "metadata": {
        "id": "gpucoFbwHDky",
        "scrolled": false
      },
      "outputs": [],
      "source": [
        "X = data.drop(columns=\"raining\")\n",
        "y = data[\"raining\"].copy()\n",
        "\n",
        "X_train, X_test, y_train, y_test = train_test_split(X, y, test_size=0.2, random_state=123)\n",
        "X_train, X_val, y_train, y_val = train_test_split(X_train, y_train, test_size=0.2, random_state=123)\n",
        "\n",
        "df_train = pd.concat([X_train, y_train], axis=1)\n",
        "df_val = pd.concat([X_val, y_val], axis=1)\n",
        "df_test = pd.concat([X_test, y_test], axis=1)"
      ]
    },
    {
      "cell_type": "markdown",
      "metadata": {
        "id": "b4SGfJS2HDky"
      },
      "source": [
        "# Soal"
      ]
    },
    {
      "cell_type": "markdown",
      "metadata": {
        "id": "MedHI5B2HDky"
      },
      "source": [
        "Disediakan data yang sudah dibagi menjadi data latih (`df_train`), data validasi (`df_val`), dan data uji (`df_test`).\n",
        "\n",
        "**Bagian 1**: (batas waktu: 17 April 2023, 10.59 WIB)\n",
        "\n",
        "1. Buatlah _baseline_ dengan menggunakan model _logistic regression_.\n",
        "2. Lakukan analisis data terkait hal berikut:\n",
        "    - _duplicate value_,\n",
        "    - _missing value_,\n",
        "    - _outlier_,\n",
        "    - _balance of data_.\n",
        "3. Jelaskan rencana penanganan yang ada pada poin 2.\n",
        "4. Jelaskan teknik _encoding_ yang digunakan terhadap data yang disediakan, disertai dengan alasan.\n",
        "5. Buatlah desain eksperimen dengan menentukan hal berikut:\n",
        "    - tujuan eksperimen,\n",
        "    - variabel dependen dan independen,\n",
        "    - strategi eksperimen,\n",
        "    - skema validasi.\n",
        "    \n",
        "**Bagian 2**: (batas waktu: 17 April 2023, 23.59 WIB)\n",
        "\n",
        "6. Implementasikan strategi eksperimen dan skema validasi yang telah ditentukan pada poin 5.\n",
        "7. Berdasarkan hasil prediksi yang dihasilkan, buatlah kesimpulan analisis karakteristik kondisi hujan.\n",
        "\n",
        "---\n",
        "\n",
        "Jika terdapat perubahan jawaban pada poin 1—5 (contoh: perbedaan penanganan _outlier_), jelaskan pada laporan mengenai jawaban sebelum, jawaban sesudah, dan alasan pengubahan jawaban."
      ]
    },
    {
      "cell_type": "markdown",
      "metadata": {
        "id": "sWEsukhEHDkz"
      },
      "source": [
        "Pada sel ini, jelaskan pembagian tugas/kerja per anggota kelompok dalam eksperimen."
      ]
    },
    {
      "cell_type": "markdown",
      "metadata": {
        "id": "135TQn54HDkz"
      },
      "source": [
        "# _Deliverable_"
      ]
    },
    {
      "cell_type": "markdown",
      "metadata": {
        "id": "JxN8RhkvHDkz"
      },
      "source": [
        "_Deliverable_ yang akan dihasilkan adalah sebagai berikut:\n",
        "1. berkas _notebook_ dengan format nama `PraktikumIF3270_M1_NIM1_NIM2.ipynb` untuk Bagian 1;\n",
        "2. berkas _notebook_ dengan format nama `PraktikumIF3270_M2_NIM1_NIM2.ipynb` untuk Bagian 1 + Bagian 2; serta\n",
        "3. berkas laporan dengan format nama `PraktikumIF3270_NIM1_NIM2.pdf` yang mencakup hal berikut:\n",
        "    - hasil analisis data,\n",
        "    - penanganan dari hasil analisis data,\n",
        "    - justifikasi teknik-teknik yang dipilih,\n",
        "    - perubahan yang dilakukan pada jawaban poin 1—5 jika ada,\n",
        "    - desain eksperimen,\n",
        "    - hasil eksperimen.\n",
        "    - analisis dari hasil eksperimen,\n",
        "    - kesimpulan,\n",
        "    - pembagian tugas/kerja per anggota kelompok\n",
        "\n",
        "Batas waktu pengumpulan:\n",
        "- _Deliverable_ poin 1: Senin, 17 April 2023, pukul 10.59 WIB\n",
        "- _Deliverable_ poin 2: Senin, 17 April 2023, pukul 23.59 WIB\n",
        "- _Deliverable_ poin 3: Senin, 17 April 2023, pukul 23.59 WIB"
      ]
    },
    {
      "cell_type": "markdown",
      "metadata": {
        "id": "tiDMUtFZK16o"
      },
      "source": [
        "## Bagian 1 Persiapan Eksperimen"
      ]
    },
    {
      "cell_type": "markdown",
      "metadata": {
        "id": "Z3OKGtmWHDk0"
      },
      "source": [
        "### 1. Buatlah _baseline_ dengan menggunakan model _logistic regression_."
      ]
    },
    {
      "cell_type": "code",
      "execution_count": 4,
      "metadata": {
        "colab": {
          "base_uri": "https://localhost:8080/"
        },
        "id": "KlQ4dnxKHDk0",
        "outputId": "224715f4-4c43-42eb-ea91-8539953bdbf9"
      },
      "outputs": [
        {
          "name": "stdout",
          "output_type": "stream",
          "text": [
            "1. Buatlah _baseline_ dengan menggunakan model logistic regression.\n",
            "Accuracy:  0.8736198924223837\n",
            "Precision, Recall, F1:\n",
            "              precision    recall  f1-score   support\n",
            "\n",
            "       False       0.88      0.99      0.93     36791\n",
            "        True       0.59      0.14      0.22      5597\n",
            "\n",
            "    accuracy                           0.87     42388\n",
            "   macro avg       0.74      0.56      0.58     42388\n",
            "weighted avg       0.84      0.87      0.84     42388\n",
            "\n",
            "Confusion Matrix:\n",
            "[[36273   518]\n",
            " [ 4839   758]]\n"
          ]
        }
      ],
      "source": [
        "#Baseline Logistic \n",
        "def baseline(X_train, y_train, X_val, y_val):\n",
        "    print(\"1. Buatlah _baseline_ dengan menggunakan model logistic regression.\")\n",
        "    #buat model\n",
        "    model = LogisticRegression()\n",
        "    #fit model\n",
        "    model.fit(X_train, y_train)\n",
        "    #prediksi\n",
        "    y_pred = model.predict(X_val)\n",
        "    #hitung hasil\n",
        "    print(\"Accuracy: \", accuracy_score(y_val, y_pred))\n",
        "    print(\"Precision, Recall, F1:\")\n",
        "    print(classification_report(y_val, y_pred))\n",
        "    print(\"Confusion Matrix:\")\n",
        "    print(confusion_matrix(y_val, y_pred))\n",
        "\n",
        "baseline(X_train, y_train, X_val, y_val)"
      ]
    },
    {
      "cell_type": "markdown",
      "metadata": {
        "id": "LOsj6BLbHDk0"
      },
      "source": [
        "### 2. Lakukan analisis data terkait hal berikut:\n",
        "    - _duplicate value_,\n",
        "    - _missing value_,\n",
        "    - _outlier_,\n",
        "    - _balance of data_."
      ]
    },
    {
      "cell_type": "code",
      "execution_count": 5,
      "metadata": {
        "colab": {
          "base_uri": "https://localhost:8080/"
        },
        "id": "yQrIUfCGHDk0",
        "outputId": "a20fbbcf-5732-4a44-8ab9-7c44e8d810b8"
      },
      "outputs": [
        {
          "name": "stdout",
          "output_type": "stream",
          "text": [
            "2. Analisis Duplicate Value, Missing Value, dan Outlier\n",
            "\n",
            "2.1. Duplicate Value\n",
            "Total Data:  223807\n",
            "Duplicate Value:  56301\n",
            "\n",
            "2.2. Missing Value\n",
            "hour          54256\n",
            "temp          54256\n",
            "temp_min      54256\n",
            "temp_max      54256\n",
            "pressure      54256\n",
            "humidity      54256\n",
            "wind_speed    54256\n",
            "wind_deg      54256\n",
            "raining       54256\n",
            "dtype: int64\n",
            "\n",
            "2.3. Outlier\n",
            "Outlier: \n",
            "hour : 0\n",
            "temp : 838\n",
            "temp_min : 1061\n",
            "temp_max : 322\n",
            "pressure : 682\n",
            "humidity : 150\n",
            "wind_speed : 2219\n",
            "wind_deg : 0\n",
            "\n",
            "2.4. Data Imbalance\n",
            "False    147238\n",
            "True      22313\n",
            "Name: raining, dtype: int64\n",
            "\n"
          ]
        }
      ],
      "source": [
        "#Analisis Duplicate Value, Missing Value, Outlier, dan Data Imbalance\n",
        "print(\"2. Analisis Duplicate Value, Missing Value, dan Outlier\")\n",
        "print(\"\")\n",
        "\n",
        "print(\"2.1. Duplicate Value\")\n",
        "print(\"Total Data: \", df_train.shape[0])\n",
        "print(\"Duplicate Value: \", df_train.duplicated().sum())\n",
        "print(\"\")\n",
        "\n",
        "print(\"2.2. Missing Value\")\n",
        "print(df_train.isnull().sum())\n",
        "print(\"\")\n",
        "\n",
        "print(\"2.3. Outlier\")\n",
        "# for all numeric freature show outlier\n",
        "print(\"Outlier: \")\n",
        "for col in df_train.columns:\n",
        "    if(df_train[col].dtype == \"int64\" or df_train[col].dtype == \"float64\"):\n",
        "        Q1 = df_train[col].quantile(0.25)\n",
        "        Q3 = df_train[col].quantile(0.75)\n",
        "        IQR = Q3 - Q1\n",
        "        print(col, \":\", df_train[(df_train[col] < Q1 - 1.5 * IQR) | (df_train[col] > Q3 + 1.5 * IQR)].shape[0])\n",
        "print(\"\")\n",
        "\n",
        "print(\"2.4. Data Imbalance\")\n",
        "print(df_train[\"raining\"].value_counts())\n",
        "print(\"\")"
      ]
    },
    {
      "cell_type": "markdown",
      "metadata": {
        "id": "TMADLgzwHDk1"
      },
      "source": [
        "### 3. Jelaskan rencana penanganan yang ada pada poin 2."
      ]
    },
    {
      "cell_type": "markdown",
      "metadata": {
        "id": "2je4Q8HCHDk1"
      },
      "source": [
        "1. Duplicate Value\n",
        "    - Hanya terdapat 3309 duplicate value dari 169551 data, sehingga duplicate value tersebut dihapus\n",
        "\n",
        "2. Missing Value\n",
        "    - Tidak terdapat missing value pada data sehingga tidak perlu dilakukan penanganan\n",
        "\n",
        "3. Outlier\n",
        "    - Terdapat kurang lebih 5000 data outlier pada data sehingga dilakukan penanganan dengan menghapus data outlier tersebut\n",
        "\n",
        "4. Balance of Data\n",
        "    - Data tidak balance karena julah data hujan jauh lebih sedikit dibandingkan data tidak hujan sehingga dilakukan oversampling pada data hujan"
      ]
    },
    {
      "cell_type": "code",
      "execution_count": 6,
      "metadata": {
        "colab": {
          "base_uri": "https://localhost:8080/"
        },
        "id": "sx98sdfKHDk1",
        "outputId": "e64c628d-b0c3-460f-c21d-f87dd6f78df3"
      },
      "outputs": [
        {
          "name": "stdout",
          "output_type": "stream",
          "text": [
            "3. Penanganan Data Berdasarkan Poin Nomor 2\n",
            "\n",
            "3.1. Duplicate Value\n",
            "Karena jumlah data duplikat sangat sedikit dibandingkan dengan jumlah data, maka data duplikat akan dihapus\n",
            "Duplicate Value:  0\n",
            "\n",
            "3.2. Missing Value\n",
            "Karena tidak ada missing value pada data, maka tidak ada penanganan yang dilakukan\n",
            "\n",
            "3.3. Outlier\n",
            "Karena jumlah outlier pada data sangat sedikit dibandingkan dengan jumlah data, maka data outlier akan dihapus\n",
            "Outlier Sisa:\n",
            "hour : 0\n",
            "temp : 41\n",
            "temp_min : 323\n",
            "temp_max : 0\n",
            "pressure : 135\n",
            "humidity : 0\n",
            "wind_speed : 187\n",
            "wind_deg : 0\n",
            "\n",
            "3.4. Data Imbalance\n",
            "Karena data rain=true sangat sedikit dibandingkan dengan data rain=false, maka data rain=false akan di undersampling\n",
            "False    22313\n",
            "True     22313\n",
            "Name: raining, dtype: int64\n",
            "\n"
          ]
        }
      ],
      "source": [
        "#Penanganan Data Berdasarkan Poin Nomor 2\n",
        "print(\"3. Penanganan Data Berdasarkan Poin Nomor 2\")\n",
        "print(\"\")\n",
        "\n",
        "print(\"3.1. Duplicate Value\")\n",
        "print(\"Karena jumlah data duplikat sangat sedikit dibandingkan dengan jumlah data, maka data duplikat akan dihapus\")\n",
        "df_train.drop_duplicates(inplace=True)\n",
        "print(\"Duplicate Value: \", df_train.duplicated().sum())\n",
        "print(\"\")\n",
        "\n",
        "print(\"3.2. Missing Value\")\n",
        "print(\"Karena tidak ada missing value pada data, maka tidak ada penanganan yang dilakukan\")\n",
        "print(\"\")\n",
        "\n",
        "print(\"3.3. Outlier\")\n",
        "print(\"Karena jumlah outlier pada data sangat sedikit dibandingkan dengan jumlah data, maka data outlier akan dihapus\")\n",
        "for col in df_train.columns:\n",
        "    if(df_train[col].dtype == \"int64\" or df_train[col].dtype == \"float64\"):\n",
        "        Q1 = df_train[col].quantile(0.25)\n",
        "        Q3 = df_train[col].quantile(0.75)\n",
        "        IQR = Q3 - Q1\n",
        "        df_train = df_train[(df_train[col] > Q1 - 1.5 * IQR) & (df_train[col] < Q3 + 1.5 * IQR)]\n",
        "print(\"Outlier Sisa:\")\n",
        "for col in df_train.columns:\n",
        "    if(df_train[col].dtype == \"int64\" or df_train[col].dtype == \"float64\"):\n",
        "        Q1 = df_train[col].quantile(0.25)\n",
        "        Q3 = df_train[col].quantile(0.75)\n",
        "        IQR = Q3 - Q1\n",
        "        print(col, \":\", df_train[(df_train[col] < Q1 - 1.5 * IQR) | (df_train[col] > Q3 + 1.5 * IQR)].shape[0])\n",
        "print(\"\")\n",
        "\n",
        "print(\"3.4. Data Imbalance\")\n",
        "print(\"Karena data rain=true sangat sedikit dibandingkan dengan data rain=false, maka data rain=false akan di undersampling\")\n",
        "# oversampler = SMOTE()\n",
        "# X_train, y_train = oversampler.fit_resample(X_train, y_train)\n",
        "# df_train = pd.concat([X_train, y_train], axis=1)\n",
        "# print(df_train[\"raining\"].value_counts())\n",
        "# print(\"\")\n",
        "\n",
        "undersampler = RandomUnderSampler()\n",
        "X_train, y_train = undersampler.fit_resample(X_train, y_train)\n",
        "df_train = pd.concat([X_train, y_train], axis=1)\n",
        "print(df_train[\"raining\"].value_counts())\n",
        "print(\"\")\n"
      ]
    },
    {
      "cell_type": "markdown",
      "metadata": {
        "id": "bfiuarpDHDk1"
      },
      "source": [
        "### 4. Jelaskan teknik _encoding_ yang digunakan terhadap data yang disediakan, disertai dengan alasan."
      ]
    },
    {
      "cell_type": "markdown",
      "metadata": {
        "id": "MpIoSMnhHDk1"
      },
      "source": [
        "1. Pada data ini, seluruh data sudah bertipe numerik sehingga tidak perlu dilakukan _encoding_. Namun dapat dilihat bahwa pada fitur hour encoding yang dilakukan adalah label encoding dan kami rasa encoding tersebut kurang relevan karena hour 23 tidak jauh lebih baik dibanding hour 0 sehingga encoding pada fitur hour akan diganti dengan one hot encoding.\n",
        "\n",
        "2. Karena range data pada tiap fitur masih berbeda, maka akan dilakukan normalisasi pada data dengan menggunakan MinMaxScaler agar setiap fitur memiliki kontribusi yang sama pada proses training."
      ]
    },
    {
      "cell_type": "code",
      "execution_count": 7,
      "metadata": {
        "colab": {
          "base_uri": "https://localhost:8080/",
          "height": 476
        },
        "id": "aAbXgK2HHDk2",
        "outputId": "62d394b8-97bb-4a15-b1b8-58374c9cf77b"
      },
      "outputs": [
        {
          "name": "stdout",
          "output_type": "stream",
          "text": [
            "4. Jelaskan teknik _encoding_ yang digunakan terhadap data yang disediakan, disertai dengan alasan.\n",
            "4.1 Mengubah hour menjadi one hot encoding\n",
            "\n",
            "4.2 Melakukan MinMaxScaler pada data\n",
            "\n"
          ]
        },
        {
          "data": {
            "text/html": [
              "<div>\n",
              "<style scoped>\n",
              "    .dataframe tbody tr th:only-of-type {\n",
              "        vertical-align: middle;\n",
              "    }\n",
              "\n",
              "    .dataframe tbody tr th {\n",
              "        vertical-align: top;\n",
              "    }\n",
              "\n",
              "    .dataframe thead th {\n",
              "        text-align: right;\n",
              "    }\n",
              "</style>\n",
              "<table border=\"1\" class=\"dataframe\">\n",
              "  <thead>\n",
              "    <tr style=\"text-align: right;\">\n",
              "      <th></th>\n",
              "      <th>temp</th>\n",
              "      <th>temp_min</th>\n",
              "      <th>temp_max</th>\n",
              "      <th>pressure</th>\n",
              "      <th>humidity</th>\n",
              "      <th>wind_speed</th>\n",
              "      <th>wind_deg</th>\n",
              "      <th>raining</th>\n",
              "      <th>hour_0</th>\n",
              "      <th>hour_1</th>\n",
              "      <th>...</th>\n",
              "      <th>hour_14</th>\n",
              "      <th>hour_15</th>\n",
              "      <th>hour_16</th>\n",
              "      <th>hour_17</th>\n",
              "      <th>hour_18</th>\n",
              "      <th>hour_19</th>\n",
              "      <th>hour_20</th>\n",
              "      <th>hour_21</th>\n",
              "      <th>hour_22</th>\n",
              "      <th>hour_23</th>\n",
              "    </tr>\n",
              "  </thead>\n",
              "  <tbody>\n",
              "    <tr>\n",
              "      <th>0</th>\n",
              "      <td>0.707887</td>\n",
              "      <td>0.838509</td>\n",
              "      <td>0.535545</td>\n",
              "      <td>0.566667</td>\n",
              "      <td>0.444444</td>\n",
              "      <td>0.165313</td>\n",
              "      <td>0.722222</td>\n",
              "      <td>0.0</td>\n",
              "      <td>0.0</td>\n",
              "      <td>0.0</td>\n",
              "      <td>...</td>\n",
              "      <td>0.0</td>\n",
              "      <td>0.0</td>\n",
              "      <td>0.0</td>\n",
              "      <td>0.0</td>\n",
              "      <td>0.0</td>\n",
              "      <td>0.0</td>\n",
              "      <td>0.0</td>\n",
              "      <td>0.0</td>\n",
              "      <td>0.0</td>\n",
              "      <td>0.0</td>\n",
              "    </tr>\n",
              "    <tr>\n",
              "      <th>1</th>\n",
              "      <td>0.735151</td>\n",
              "      <td>0.869565</td>\n",
              "      <td>0.549763</td>\n",
              "      <td>0.500000</td>\n",
              "      <td>0.518519</td>\n",
              "      <td>0.084118</td>\n",
              "      <td>0.500000</td>\n",
              "      <td>0.0</td>\n",
              "      <td>0.0</td>\n",
              "      <td>0.0</td>\n",
              "      <td>...</td>\n",
              "      <td>0.0</td>\n",
              "      <td>0.0</td>\n",
              "      <td>0.0</td>\n",
              "      <td>0.0</td>\n",
              "      <td>0.0</td>\n",
              "      <td>0.0</td>\n",
              "      <td>0.0</td>\n",
              "      <td>0.0</td>\n",
              "      <td>0.0</td>\n",
              "      <td>0.0</td>\n",
              "    </tr>\n",
              "    <tr>\n",
              "      <th>2</th>\n",
              "      <td>0.662610</td>\n",
              "      <td>0.807453</td>\n",
              "      <td>0.488152</td>\n",
              "      <td>0.566667</td>\n",
              "      <td>0.685185</td>\n",
              "      <td>0.100357</td>\n",
              "      <td>0.305556</td>\n",
              "      <td>0.0</td>\n",
              "      <td>0.0</td>\n",
              "      <td>0.0</td>\n",
              "      <td>...</td>\n",
              "      <td>0.0</td>\n",
              "      <td>0.0</td>\n",
              "      <td>0.0</td>\n",
              "      <td>0.0</td>\n",
              "      <td>0.0</td>\n",
              "      <td>0.0</td>\n",
              "      <td>0.0</td>\n",
              "      <td>0.0</td>\n",
              "      <td>0.0</td>\n",
              "      <td>0.0</td>\n",
              "    </tr>\n",
              "    <tr>\n",
              "      <th>3</th>\n",
              "      <td>0.595424</td>\n",
              "      <td>0.783540</td>\n",
              "      <td>0.404265</td>\n",
              "      <td>0.500000</td>\n",
              "      <td>0.759259</td>\n",
              "      <td>0.027931</td>\n",
              "      <td>0.630556</td>\n",
              "      <td>0.0</td>\n",
              "      <td>0.0</td>\n",
              "      <td>0.0</td>\n",
              "      <td>...</td>\n",
              "      <td>0.0</td>\n",
              "      <td>0.0</td>\n",
              "      <td>0.0</td>\n",
              "      <td>0.0</td>\n",
              "      <td>0.0</td>\n",
              "      <td>0.0</td>\n",
              "      <td>0.0</td>\n",
              "      <td>0.0</td>\n",
              "      <td>0.0</td>\n",
              "      <td>0.0</td>\n",
              "    </tr>\n",
              "    <tr>\n",
              "      <th>4</th>\n",
              "      <td>0.774099</td>\n",
              "      <td>0.897516</td>\n",
              "      <td>0.578199</td>\n",
              "      <td>0.394444</td>\n",
              "      <td>0.481481</td>\n",
              "      <td>0.201039</td>\n",
              "      <td>0.722222</td>\n",
              "      <td>0.0</td>\n",
              "      <td>0.0</td>\n",
              "      <td>0.0</td>\n",
              "      <td>...</td>\n",
              "      <td>0.0</td>\n",
              "      <td>0.0</td>\n",
              "      <td>0.0</td>\n",
              "      <td>0.0</td>\n",
              "      <td>0.0</td>\n",
              "      <td>0.0</td>\n",
              "      <td>0.0</td>\n",
              "      <td>0.0</td>\n",
              "      <td>0.0</td>\n",
              "      <td>0.0</td>\n",
              "    </tr>\n",
              "    <tr>\n",
              "      <th>...</th>\n",
              "      <td>...</td>\n",
              "      <td>...</td>\n",
              "      <td>...</td>\n",
              "      <td>...</td>\n",
              "      <td>...</td>\n",
              "      <td>...</td>\n",
              "      <td>...</td>\n",
              "      <td>...</td>\n",
              "      <td>...</td>\n",
              "      <td>...</td>\n",
              "      <td>...</td>\n",
              "      <td>...</td>\n",
              "      <td>...</td>\n",
              "      <td>...</td>\n",
              "      <td>...</td>\n",
              "      <td>...</td>\n",
              "      <td>...</td>\n",
              "      <td>...</td>\n",
              "      <td>...</td>\n",
              "      <td>...</td>\n",
              "      <td>...</td>\n",
              "    </tr>\n",
              "    <tr>\n",
              "      <th>44621</th>\n",
              "      <td>0.486855</td>\n",
              "      <td>0.714286</td>\n",
              "      <td>0.298578</td>\n",
              "      <td>0.661111</td>\n",
              "      <td>0.888889</td>\n",
              "      <td>0.084118</td>\n",
              "      <td>0.250000</td>\n",
              "      <td>1.0</td>\n",
              "      <td>0.0</td>\n",
              "      <td>0.0</td>\n",
              "      <td>...</td>\n",
              "      <td>0.0</td>\n",
              "      <td>0.0</td>\n",
              "      <td>0.0</td>\n",
              "      <td>0.0</td>\n",
              "      <td>0.0</td>\n",
              "      <td>1.0</td>\n",
              "      <td>0.0</td>\n",
              "      <td>0.0</td>\n",
              "      <td>0.0</td>\n",
              "      <td>0.0</td>\n",
              "    </tr>\n",
              "    <tr>\n",
              "      <th>44622</th>\n",
              "      <td>0.586173</td>\n",
              "      <td>0.777640</td>\n",
              "      <td>0.395261</td>\n",
              "      <td>0.500000</td>\n",
              "      <td>0.703704</td>\n",
              "      <td>0.037025</td>\n",
              "      <td>0.411111</td>\n",
              "      <td>1.0</td>\n",
              "      <td>0.0</td>\n",
              "      <td>0.0</td>\n",
              "      <td>...</td>\n",
              "      <td>1.0</td>\n",
              "      <td>0.0</td>\n",
              "      <td>0.0</td>\n",
              "      <td>0.0</td>\n",
              "      <td>0.0</td>\n",
              "      <td>0.0</td>\n",
              "      <td>0.0</td>\n",
              "      <td>0.0</td>\n",
              "      <td>0.0</td>\n",
              "      <td>0.0</td>\n",
              "    </tr>\n",
              "    <tr>\n",
              "      <th>44623</th>\n",
              "      <td>0.563778</td>\n",
              "      <td>0.714286</td>\n",
              "      <td>0.497630</td>\n",
              "      <td>0.611111</td>\n",
              "      <td>0.888889</td>\n",
              "      <td>0.333875</td>\n",
              "      <td>0.833333</td>\n",
              "      <td>1.0</td>\n",
              "      <td>0.0</td>\n",
              "      <td>0.0</td>\n",
              "      <td>...</td>\n",
              "      <td>0.0</td>\n",
              "      <td>0.0</td>\n",
              "      <td>0.0</td>\n",
              "      <td>0.0</td>\n",
              "      <td>0.0</td>\n",
              "      <td>0.0</td>\n",
              "      <td>0.0</td>\n",
              "      <td>0.0</td>\n",
              "      <td>0.0</td>\n",
              "      <td>0.0</td>\n",
              "    </tr>\n",
              "    <tr>\n",
              "      <th>44624</th>\n",
              "      <td>0.673320</td>\n",
              "      <td>0.829193</td>\n",
              "      <td>0.488152</td>\n",
              "      <td>0.611111</td>\n",
              "      <td>0.611111</td>\n",
              "      <td>0.100357</td>\n",
              "      <td>0.277778</td>\n",
              "      <td>1.0</td>\n",
              "      <td>0.0</td>\n",
              "      <td>0.0</td>\n",
              "      <td>...</td>\n",
              "      <td>0.0</td>\n",
              "      <td>0.0</td>\n",
              "      <td>0.0</td>\n",
              "      <td>0.0</td>\n",
              "      <td>0.0</td>\n",
              "      <td>0.0</td>\n",
              "      <td>0.0</td>\n",
              "      <td>0.0</td>\n",
              "      <td>0.0</td>\n",
              "      <td>0.0</td>\n",
              "    </tr>\n",
              "    <tr>\n",
              "      <th>44625</th>\n",
              "      <td>0.525803</td>\n",
              "      <td>0.739130</td>\n",
              "      <td>0.336493</td>\n",
              "      <td>0.522222</td>\n",
              "      <td>0.870370</td>\n",
              "      <td>0.116596</td>\n",
              "      <td>0.361111</td>\n",
              "      <td>1.0</td>\n",
              "      <td>0.0</td>\n",
              "      <td>0.0</td>\n",
              "      <td>...</td>\n",
              "      <td>0.0</td>\n",
              "      <td>0.0</td>\n",
              "      <td>0.0</td>\n",
              "      <td>0.0</td>\n",
              "      <td>0.0</td>\n",
              "      <td>0.0</td>\n",
              "      <td>0.0</td>\n",
              "      <td>0.0</td>\n",
              "      <td>1.0</td>\n",
              "      <td>0.0</td>\n",
              "    </tr>\n",
              "  </tbody>\n",
              "</table>\n",
              "<p>44626 rows × 32 columns</p>\n",
              "</div>"
            ],
            "text/plain": [
              "           temp  temp_min  temp_max  pressure  humidity  wind_speed  wind_deg  \\\n",
              "0      0.707887  0.838509  0.535545  0.566667  0.444444    0.165313  0.722222   \n",
              "1      0.735151  0.869565  0.549763  0.500000  0.518519    0.084118  0.500000   \n",
              "2      0.662610  0.807453  0.488152  0.566667  0.685185    0.100357  0.305556   \n",
              "3      0.595424  0.783540  0.404265  0.500000  0.759259    0.027931  0.630556   \n",
              "4      0.774099  0.897516  0.578199  0.394444  0.481481    0.201039  0.722222   \n",
              "...         ...       ...       ...       ...       ...         ...       ...   \n",
              "44621  0.486855  0.714286  0.298578  0.661111  0.888889    0.084118  0.250000   \n",
              "44622  0.586173  0.777640  0.395261  0.500000  0.703704    0.037025  0.411111   \n",
              "44623  0.563778  0.714286  0.497630  0.611111  0.888889    0.333875  0.833333   \n",
              "44624  0.673320  0.829193  0.488152  0.611111  0.611111    0.100357  0.277778   \n",
              "44625  0.525803  0.739130  0.336493  0.522222  0.870370    0.116596  0.361111   \n",
              "\n",
              "       raining  hour_0  hour_1  ...  hour_14  hour_15  hour_16  hour_17  \\\n",
              "0          0.0     0.0     0.0  ...      0.0      0.0      0.0      0.0   \n",
              "1          0.0     0.0     0.0  ...      0.0      0.0      0.0      0.0   \n",
              "2          0.0     0.0     0.0  ...      0.0      0.0      0.0      0.0   \n",
              "3          0.0     0.0     0.0  ...      0.0      0.0      0.0      0.0   \n",
              "4          0.0     0.0     0.0  ...      0.0      0.0      0.0      0.0   \n",
              "...        ...     ...     ...  ...      ...      ...      ...      ...   \n",
              "44621      1.0     0.0     0.0  ...      0.0      0.0      0.0      0.0   \n",
              "44622      1.0     0.0     0.0  ...      1.0      0.0      0.0      0.0   \n",
              "44623      1.0     0.0     0.0  ...      0.0      0.0      0.0      0.0   \n",
              "44624      1.0     0.0     0.0  ...      0.0      0.0      0.0      0.0   \n",
              "44625      1.0     0.0     0.0  ...      0.0      0.0      0.0      0.0   \n",
              "\n",
              "       hour_18  hour_19  hour_20  hour_21  hour_22  hour_23  \n",
              "0          0.0      0.0      0.0      0.0      0.0      0.0  \n",
              "1          0.0      0.0      0.0      0.0      0.0      0.0  \n",
              "2          0.0      0.0      0.0      0.0      0.0      0.0  \n",
              "3          0.0      0.0      0.0      0.0      0.0      0.0  \n",
              "4          0.0      0.0      0.0      0.0      0.0      0.0  \n",
              "...        ...      ...      ...      ...      ...      ...  \n",
              "44621      0.0      1.0      0.0      0.0      0.0      0.0  \n",
              "44622      0.0      0.0      0.0      0.0      0.0      0.0  \n",
              "44623      0.0      0.0      0.0      0.0      0.0      0.0  \n",
              "44624      0.0      0.0      0.0      0.0      0.0      0.0  \n",
              "44625      0.0      0.0      0.0      0.0      1.0      0.0  \n",
              "\n",
              "[44626 rows x 32 columns]"
            ]
          },
          "execution_count": 7,
          "metadata": {},
          "output_type": "execute_result"
        }
      ],
      "source": [
        "print(\"4. Jelaskan teknik _encoding_ yang digunakan terhadap data yang disediakan, disertai dengan alasan.\")\n",
        "print(\"4.1 Mengubah hour menjadi one hot encoding\")\n",
        "df_train = pd.concat([df_train, pd.get_dummies(df_train[\"hour\"], prefix=\"hour\")], axis=1)\n",
        "df_train.drop(columns=\"hour\", inplace=True)\n",
        "print(\"\")\n",
        "\n",
        "print(\"4.2 Melakukan MinMaxScaler pada data\")\n",
        "scaler = MinMaxScaler()\n",
        "df_train = pd.DataFrame(scaler.fit_transform(df_train), columns=df_train.columns)\n",
        "print(\"\")\n",
        "\n",
        "df_train\n"
      ]
    },
    {
      "cell_type": "markdown",
      "metadata": {
        "id": "qQLyjVjQHDk2"
      },
      "source": [
        "### 5. Buatlah desain eksperimen dengan menentukan hal berikut:\n",
        "    - tujuan eksperimen,\n",
        "    - variabel dependen dan independen,\n",
        "    - strategi eksperimen,\n",
        "    - skema validasi."
      ]
    },
    {
      "cell_type": "markdown",
      "metadata": {
        "id": "vpVB5QRMHDk2"
      },
      "source": [
        "Tujuan Eksperimen:\n",
        "- Problem Statement: Melakukan analisis kebenaran kondisi hujan pada kota Denpasar.\n",
        "- Eksperimen: Mencari model eksperimen terbaik beserta hiperparameternya untuk melakukan prediksi kebenaran keterjadian hujan dari data dari __weather_main__ dengan kolom target __raining__.\n",
        "\n",
        "Variabel Dependen dan Independen:\n",
        "- Variabel Dependen: Kolom __raining__ sebagai target\n",
        "- Variable Independen: \n",
        "    - Feature Selection: Kolom atribut pada __weateher_main__ terkecuali kolom __raining__ sebagai target, yaitu __hour__, __temp__, __temp_min__, __temp_max__, __pressure__, __humidity__, __wind_speed__, __wind_deg__.\n",
        "    - Mode Tune: Hyperparameter model\n",
        "    - Model Comparison: Model (Logreg, SVM, serta gabungannya)\n",
        "\n",
        "Strategi Eksperimen:\n",
        "1. Metric Penilaian model terhadap response variable:\n",
        "    - Accuracy\n",
        "    - Precision\n",
        "    - Recall\n",
        "    - F1-Score\n",
        "    - AUROC\n",
        "2. Model yang akan diuji adalah:\n",
        "    - Logistic Regression\n",
        "    - Support Vector Machine (SVM) dengan kernel 'rbf'\n",
        "    Alasan pemilihan model: Logistic Regression sebagai baseline, SVM mampu melakukan klasifikasi terhadap non linierly seperable dataset dengan meningkatkan dimensi memungkinkan model yang baik.\n",
        "3. Factor hyperparemeter pengujian (SVM)\n",
        "    - C (Regularization parameter)\n",
        "    - gamma (Kernel Coefficient)\n",
        "4. Levels dan Ranges\n",
        "    - C: [0.1, 1, 10, 100, 1000]\n",
        "    - gamma: [1, 0.1, 0.01, 0.001, 0.0001]\n",
        "    \n",
        "    Levels: Hasil terbaik dari GridSearch hyperparameter SVM digabung dengan Logistic Regression:\n",
        "    - Soft Voting\n",
        "    - Hard Voting\n",
        "    - Stacking\n",
        "5. Strategi Eksperimen\n",
        "    - Grid Search\n",
        "\n",
        "Skema Validasi:\n",
        "- K-Fold Cross Validation dengan nilai k=5"
      ]
    },
    {
      "cell_type": "markdown",
      "metadata": {
        "id": "E2-QTVToKrt7"
      },
      "source": [
        "## Bagian 2 Eksperimen"
      ]
    },
    {
      "cell_type": "markdown",
      "metadata": {
        "id": "tfIk-gQdM3xo"
      },
      "source": [
        "### 1. Model Pembelajaran"
      ]
    },
    {
      "cell_type": "code",
      "execution_count": 8,
      "metadata": {
        "id": "UJPoq06OOBHH"
      },
      "outputs": [],
      "source": [
        "def model_fit(model):\n",
        "    model.fit(X_train, y_train)\n",
        "\n",
        "def score(model):\n",
        "    #prediksi\n",
        "    y_pred = model.predict(X_val)\n",
        "    #hitung hasil\n",
        "    print(\"Accuracy: \", accuracy_score(y_val, y_pred))\n",
        "    print(\"Precision, Recall, F1:\")\n",
        "    print(classification_report(y_val, y_pred))\n",
        "    # print(\"AUROC :\", roc_auc_score(y_test, model.predict_proba(X_test)[:,1]))\n",
        "    print(\"AUROC :\", roc_auc_score(y_val, y_pred))\n",
        "\n",
        "\n",
        "    print(\"Confusion Matrix:\")\n",
        "    ax= plt.subplot()\n",
        "    sns.heatmap(confusion_matrix(y_val, y_pred), annot=True, fmt='g', ax=ax)\n",
        "\n",
        "    # labels, title and ticks\n",
        "    ax.set_xlabel('Predicted labels')\n",
        "    ax.set_ylabel('True labels')\n",
        "    ax.set_title('Confusion Matrix')\n",
        "    plt.show()"
      ]
    },
    {
      "cell_type": "markdown",
      "metadata": {
        "id": "DpI6q3tFNl_R"
      },
      "source": [
        "Model Logistic regression"
      ]
    },
    {
      "cell_type": "code",
      "execution_count": 9,
      "metadata": {
        "colab": {
          "base_uri": "https://localhost:8080/",
          "height": 715
        },
        "id": "U4We5qKfKncy",
        "outputId": "9b987755-4073-4412-b6d9-a423a5697b40"
      },
      "outputs": [
        {
          "name": "stdout",
          "output_type": "stream",
          "text": [
            "Model Logistic Regression\n",
            "Accuracy:  0.7109795225063698\n",
            "Precision, Recall, F1:\n",
            "              precision    recall  f1-score   support\n",
            "\n",
            "       False       0.95      0.70      0.81     36791\n",
            "        True       0.28      0.76      0.41      5597\n",
            "\n",
            "    accuracy                           0.71     42388\n",
            "   macro avg       0.61      0.73      0.61     42388\n",
            "weighted avg       0.86      0.71      0.76     42388\n",
            "\n",
            "AUROC : 0.8055673080491794\n",
            "Confusion Matrix:\n"
          ]
        },
        {
          "data": {
            "image/png": "[encoded data removed]",
            "text/plain": [
              "<Figure size 432x288 with 2 Axes>"
            ]
          },
          "metadata": {
            "needs_background": "light"
          },
          "output_type": "display_data"
        }
      ],
      "source": [
        "# Model Logistic Regresion (Baseline) Menggunakan hasil bagian 1\n",
        "\n",
        "print(\"Model Logistic Regression\")\n",
        "#buat model\n",
        "logRegModel = LogisticRegression()\n",
        "#fit model\n",
        "model_fit(logRegModel)\n",
        "\n",
        "score(logRegModel)"
      ]
    },
    {
      "cell_type": "markdown",
      "metadata": {
        "id": "oWtmycYGNtpm"
      },
      "source": [
        "Model SVM"
      ]
    },
    {
      "cell_type": "code",
      "execution_count": 10,
      "metadata": {
        "colab": {
          "base_uri": "https://localhost:8080/"
        },
        "id": "NipA-eF1NwZM",
        "outputId": "81198092-b9d1-41b2-95f0-7285de121449"
      },
      "outputs": [
        {
          "name": "stdout",
          "output_type": "stream",
          "text": [
            "Model SVC\n",
            "Accuracy:  0.740516183825611\n",
            "Precision, Recall, F1:\n",
            "              precision    recall  f1-score   support\n",
            "\n",
            "       False       0.96      0.73      0.83     36791\n",
            "        True       0.32      0.82      0.46      5597\n",
            "\n",
            "    accuracy                           0.74     42388\n",
            "   macro avg       0.64      0.78      0.64     42388\n",
            "weighted avg       0.88      0.74      0.78     42388\n",
            "\n",
            "AUROC : 0.8502697549493482\n",
            "Confusion Matrix:\n"
          ]
        },
        {
          "data": {
            "image/png": "[encoded data removed]",
            "text/plain": [
              "<Figure size 432x288 with 2 Axes>"
            ]
          },
          "metadata": {
            "needs_background": "light"
          },
          "output_type": "display_data"
        }
      ],
      "source": [
        "# Model SVC\n",
        "\n",
        "print(\"Model SVC\")\n",
        "#buat model\n",
        "model = SVC(kernel=\"rbf\", random_state=0, probability=True, C=1000, gamma=0.001)\n",
        "# model = SVC(kernel=\"rbf\", random_state=0)\n",
        "#fit model\n",
        "model_fit(model)\n",
        "\n",
        "score(model)"
      ]
    },
    {
      "cell_type": "markdown",
      "metadata": {
        "id": "_oH7yvb_VA8H"
      },
      "source": [
        "## 2. Tuning Hyperparameter SVC"
      ]
    },
    {
      "cell_type": "code",
      "execution_count": 29,
      "metadata": {
        "id": "a5U0RVAnVFrH"
      },
      "outputs": [
        {
          "name": "stdout",
          "output_type": "stream",
          "text": [
            "Fitting 5 folds for each of 25 candidates, totalling 125 fits\n",
            "[CV 1/5] END ........C=0.1, gamma=1, kernel=rbf;, score=0.596 total time=   4.6s\n",
            "[CV 2/5] END ........C=0.1, gamma=1, kernel=rbf;, score=0.500 total time=   4.4s\n",
            "[CV 3/5] END ........C=0.1, gamma=1, kernel=rbf;, score=0.500 total time=   4.4s\n",
            "[CV 4/5] END ........C=0.1, gamma=1, kernel=rbf;, score=0.500 total time=   4.7s\n",
            "[CV 5/5] END ........C=0.1, gamma=1, kernel=rbf;, score=0.500 total time=   5.3s\n",
            "[CV 1/5] END ......C=0.1, gamma=0.1, kernel=rbf;, score=0.727 total time=   4.9s\n",
            "[CV 2/5] END ......C=0.1, gamma=0.1, kernel=rbf;, score=0.728 total time=   4.9s\n",
            "[CV 3/5] END ......C=0.1, gamma=0.1, kernel=rbf;, score=0.720 total time=   4.8s\n",
            "[CV 4/5] END ......C=0.1, gamma=0.1, kernel=rbf;, score=0.729 total time=   4.7s\n",
            "[CV 5/5] END ......C=0.1, gamma=0.1, kernel=rbf;, score=0.721 total time=   5.3s\n",
            "[CV 1/5] END .....C=0.1, gamma=0.01, kernel=rbf;, score=0.754 total time=   4.2s\n",
            "[CV 2/5] END .....C=0.1, gamma=0.01, kernel=rbf;, score=0.753 total time=   4.2s\n",
            "[CV 3/5] END .....C=0.1, gamma=0.01, kernel=rbf;, score=0.752 total time=   4.6s\n",
            "[CV 4/5] END .....C=0.1, gamma=0.01, kernel=rbf;, score=0.755 total time=   4.4s\n",
            "[CV 5/5] END .....C=0.1, gamma=0.01, kernel=rbf;, score=0.750 total time=   4.5s\n",
            "[CV 1/5] END ....C=0.1, gamma=0.001, kernel=rbf;, score=0.746 total time=   4.7s\n",
            "[CV 2/5] END ....C=0.1, gamma=0.001, kernel=rbf;, score=0.743 total time=   4.5s\n",
            "[CV 3/5] END ....C=0.1, gamma=0.001, kernel=rbf;, score=0.740 total time=   4.5s\n",
            "[CV 4/5] END ....C=0.1, gamma=0.001, kernel=rbf;, score=0.742 total time=   4.3s\n",
            "[CV 5/5] END ....C=0.1, gamma=0.001, kernel=rbf;, score=0.735 total time=   4.0s\n",
            "[CV 1/5] END ...C=0.1, gamma=0.0001, kernel=rbf;, score=0.735 total time=   4.9s\n",
            "[CV 2/5] END ...C=0.1, gamma=0.0001, kernel=rbf;, score=0.729 total time=   4.5s\n",
            "[CV 3/5] END ...C=0.1, gamma=0.0001, kernel=rbf;, score=0.721 total time=   4.7s\n",
            "[CV 4/5] END ...C=0.1, gamma=0.0001, kernel=rbf;, score=0.728 total time=   5.0s\n",
            "[CV 5/5] END ...C=0.1, gamma=0.0001, kernel=rbf;, score=0.724 total time=   4.6s\n",
            "[CV 1/5] END ..........C=1, gamma=1, kernel=rbf;, score=0.665 total time=  13.9s\n",
            "[CV 2/5] END ..........C=1, gamma=1, kernel=rbf;, score=0.674 total time=  13.1s\n",
            "[CV 3/5] END ..........C=1, gamma=1, kernel=rbf;, score=0.663 total time=  12.5s\n",
            "[CV 4/5] END ..........C=1, gamma=1, kernel=rbf;, score=0.659 total time=  12.2s\n",
            "[CV 5/5] END ..........C=1, gamma=1, kernel=rbf;, score=0.667 total time=  12.3s\n",
            "[CV 1/5] END ........C=1, gamma=0.1, kernel=rbf;, score=0.777 total time=  11.6s\n",
            "[CV 2/5] END ........C=1, gamma=0.1, kernel=rbf;, score=0.776 total time=  11.7s\n",
            "[CV 3/5] END ........C=1, gamma=0.1, kernel=rbf;, score=0.771 total time=  11.2s\n",
            "[CV 4/5] END ........C=1, gamma=0.1, kernel=rbf;, score=0.774 total time=  11.5s\n",
            "[CV 5/5] END ........C=1, gamma=0.1, kernel=rbf;, score=0.769 total time=  11.2s\n",
            "[CV 1/5] END .......C=1, gamma=0.01, kernel=rbf;, score=0.774 total time=   6.1s\n",
            "[CV 2/5] END .......C=1, gamma=0.01, kernel=rbf;, score=0.768 total time=   5.6s\n",
            "[CV 3/5] END .......C=1, gamma=0.01, kernel=rbf;, score=0.767 total time=   5.7s\n",
            "[CV 4/5] END .......C=1, gamma=0.01, kernel=rbf;, score=0.749 total time=   5.7s\n",
            "[CV 5/5] END .......C=1, gamma=0.01, kernel=rbf;, score=0.763 total time=   5.2s\n",
            "[CV 1/5] END ......C=1, gamma=0.001, kernel=rbf;, score=0.757 total time=   4.9s\n",
            "[CV 2/5] END ......C=1, gamma=0.001, kernel=rbf;, score=0.754 total time=   5.3s\n",
            "[CV 3/5] END ......C=1, gamma=0.001, kernel=rbf;, score=0.750 total time=   5.5s\n",
            "[CV 4/5] END ......C=1, gamma=0.001, kernel=rbf;, score=0.754 total time=   5.4s\n",
            "[CV 5/5] END ......C=1, gamma=0.001, kernel=rbf;, score=0.747 total time=   5.3s\n",
            "[CV 1/5] END .....C=1, gamma=0.0001, kernel=rbf;, score=0.734 total time=   5.3s\n",
            "[CV 2/5] END .....C=1, gamma=0.0001, kernel=rbf;, score=0.737 total time=   5.7s\n",
            "[CV 3/5] END .....C=1, gamma=0.0001, kernel=rbf;, score=0.736 total time=   4.9s\n",
            "[CV 4/5] END .....C=1, gamma=0.0001, kernel=rbf;, score=0.741 total time=   6.0s\n",
            "[CV 5/5] END .....C=1, gamma=0.0001, kernel=rbf;, score=0.732 total time=   6.1s\n",
            "[CV 1/5] END .........C=10, gamma=1, kernel=rbf;, score=0.673 total time=  15.5s\n",
            "[CV 2/5] END .........C=10, gamma=1, kernel=rbf;, score=0.682 total time=  15.6s\n",
            "[CV 3/5] END .........C=10, gamma=1, kernel=rbf;, score=0.665 total time=  14.8s\n",
            "[CV 4/5] END .........C=10, gamma=1, kernel=rbf;, score=0.665 total time=  15.8s\n",
            "[CV 5/5] END .........C=10, gamma=1, kernel=rbf;, score=0.670 total time=  15.1s\n",
            "[CV 1/5] END .......C=10, gamma=0.1, kernel=rbf;, score=0.749 total time=  29.9s\n",
            "[CV 2/5] END .......C=10, gamma=0.1, kernel=rbf;, score=0.746 total time=  27.9s\n",
            "[CV 3/5] END .......C=10, gamma=0.1, kernel=rbf;, score=0.746 total time=  27.4s\n",
            "[CV 4/5] END .......C=10, gamma=0.1, kernel=rbf;, score=0.744 total time=  27.7s\n",
            "[CV 5/5] END .......C=10, gamma=0.1, kernel=rbf;, score=0.748 total time=  27.8s\n",
            "[CV 1/5] END ......C=10, gamma=0.01, kernel=rbf;, score=0.772 total time=  22.2s\n",
            "[CV 2/5] END ......C=10, gamma=0.01, kernel=rbf;, score=0.780 total time=  22.0s\n",
            "[CV 3/5] END ......C=10, gamma=0.01, kernel=rbf;, score=0.777 total time=  21.7s\n",
            "[CV 4/5] END ......C=10, gamma=0.01, kernel=rbf;, score=0.773 total time=  22.4s\n",
            "[CV 5/5] END ......C=10, gamma=0.01, kernel=rbf;, score=0.755 total time=  21.6s\n",
            "[CV 1/5] END .....C=10, gamma=0.001, kernel=rbf;, score=0.768 total time=   9.0s\n",
            "[CV 2/5] END .....C=10, gamma=0.001, kernel=rbf;, score=0.753 total time=   7.5s\n",
            "[CV 3/5] END .....C=10, gamma=0.001, kernel=rbf;, score=0.762 total time=   7.4s\n",
            "[CV 4/5] END .....C=10, gamma=0.001, kernel=rbf;, score=0.764 total time=   7.1s\n",
            "[CV 5/5] END .....C=10, gamma=0.001, kernel=rbf;, score=0.759 total time=   6.9s\n",
            "[CV 1/5] END ....C=10, gamma=0.0001, kernel=rbf;, score=0.748 total time=   5.9s\n",
            "[CV 2/5] END ....C=10, gamma=0.0001, kernel=rbf;, score=0.743 total time=   8.2s\n",
            "[CV 3/5] END ....C=10, gamma=0.0001, kernel=rbf;, score=0.740 total time=   7.3s\n",
            "[CV 4/5] END ....C=10, gamma=0.0001, kernel=rbf;, score=0.745 total time=   5.9s\n",
            "[CV 5/5] END ....C=10, gamma=0.0001, kernel=rbf;, score=0.738 total time=   6.4s\n",
            "[CV 1/5] END ........C=100, gamma=1, kernel=rbf;, score=0.672 total time=  15.2s\n",
            "[CV 2/5] END ........C=100, gamma=1, kernel=rbf;, score=0.681 total time=  14.5s\n",
            "[CV 3/5] END ........C=100, gamma=1, kernel=rbf;, score=0.661 total time=  14.9s\n",
            "[CV 4/5] END ........C=100, gamma=1, kernel=rbf;, score=0.665 total time=  14.5s\n",
            "[CV 5/5] END ........C=100, gamma=1, kernel=rbf;, score=0.670 total time=  14.9s\n",
            "[CV 1/5] END ......C=100, gamma=0.1, kernel=rbf;, score=0.726 total time=  48.4s\n",
            "[CV 2/5] END ......C=100, gamma=0.1, kernel=rbf;, score=0.729 total time=  47.3s\n",
            "[CV 3/5] END ......C=100, gamma=0.1, kernel=rbf;, score=0.722 total time=  48.8s\n",
            "[CV 4/5] END ......C=100, gamma=0.1, kernel=rbf;, score=0.722 total time=  49.8s\n",
            "[CV 5/5] END ......C=100, gamma=0.1, kernel=rbf;, score=0.722 total time=  47.7s\n",
            "[CV 1/5] END .....C=100, gamma=0.01, kernel=rbf;, score=0.773 total time= 2.4min\n",
            "[CV 2/5] END .....C=100, gamma=0.01, kernel=rbf;, score=0.772 total time= 2.4min\n",
            "[CV 3/5] END .....C=100, gamma=0.01, kernel=rbf;, score=0.773 total time= 2.5min\n",
            "[CV 4/5] END .....C=100, gamma=0.01, kernel=rbf;, score=0.767 total time= 2.4min\n",
            "[CV 5/5] END .....C=100, gamma=0.01, kernel=rbf;, score=0.762 total time= 2.3min\n",
            "[CV 1/5] END ....C=100, gamma=0.001, kernel=rbf;, score=0.777 total time=  13.9s\n",
            "[CV 2/5] END ....C=100, gamma=0.001, kernel=rbf;, score=0.771 total time=  15.6s\n",
            "[CV 3/5] END ....C=100, gamma=0.001, kernel=rbf;, score=0.768 total time=  14.6s\n",
            "[CV 4/5] END ....C=100, gamma=0.001, kernel=rbf;, score=0.770 total time=  15.5s\n",
            "[CV 5/5] END ....C=100, gamma=0.001, kernel=rbf;, score=0.767 total time=  13.5s\n",
            "[CV 1/5] END ...C=100, gamma=0.0001, kernel=rbf;, score=0.755 total time=   9.0s\n",
            "[CV 2/5] END ...C=100, gamma=0.0001, kernel=rbf;, score=0.754 total time=   8.7s\n",
            "[CV 3/5] END ...C=100, gamma=0.0001, kernel=rbf;, score=0.750 total time=   7.6s\n",
            "[CV 4/5] END ...C=100, gamma=0.0001, kernel=rbf;, score=0.752 total time=   8.8s\n",
            "[CV 5/5] END ...C=100, gamma=0.0001, kernel=rbf;, score=0.745 total time=   8.1s\n",
            "[CV 1/5] END .......C=1000, gamma=1, kernel=rbf;, score=0.672 total time=  15.1s\n",
            "[CV 2/5] END .......C=1000, gamma=1, kernel=rbf;, score=0.681 total time=  17.7s\n",
            "[CV 3/5] END .......C=1000, gamma=1, kernel=rbf;, score=0.665 total time=  17.1s\n",
            "[CV 4/5] END .......C=1000, gamma=1, kernel=rbf;, score=0.665 total time=  17.1s\n",
            "[CV 5/5] END .......C=1000, gamma=1, kernel=rbf;, score=0.670 total time=  17.6s\n",
            "[CV 1/5] END .....C=1000, gamma=0.1, kernel=rbf;, score=0.721 total time= 1.1min\n",
            "[CV 2/5] END .....C=1000, gamma=0.1, kernel=rbf;, score=0.728 total time= 1.1min\n",
            "[CV 3/5] END .....C=1000, gamma=0.1, kernel=rbf;, score=0.716 total time= 1.2min\n",
            "[CV 4/5] END .....C=1000, gamma=0.1, kernel=rbf;, score=0.721 total time= 1.2min\n",
            "[CV 5/5] END .....C=1000, gamma=0.1, kernel=rbf;, score=0.716 total time= 1.0min\n",
            "[CV 1/5] END ....C=1000, gamma=0.01, kernel=rbf;, score=0.762 total time=10.9min\n",
            "[CV 2/5] END ....C=1000, gamma=0.01, kernel=rbf;, score=0.756 total time=11.0min\n",
            "[CV 3/5] END ....C=1000, gamma=0.01, kernel=rbf;, score=0.754 total time=11.5min\n",
            "[CV 4/5] END ....C=1000, gamma=0.01, kernel=rbf;, score=0.752 total time=13.1min\n",
            "[CV 5/5] END ....C=1000, gamma=0.01, kernel=rbf;, score=0.750 total time=12.2min\n",
            "[CV 1/5] END ...C=1000, gamma=0.001, kernel=rbf;, score=0.778 total time= 1.1min\n",
            "[CV 2/5] END ...C=1000, gamma=0.001, kernel=rbf;, score=0.775 total time= 1.2min\n",
            "[CV 3/5] END ...C=1000, gamma=0.001, kernel=rbf;, score=0.773 total time= 1.2min\n",
            "[CV 4/5] END ...C=1000, gamma=0.001, kernel=rbf;, score=0.773 total time= 1.1min\n",
            "[CV 5/5] END ...C=1000, gamma=0.001, kernel=rbf;, score=0.769 total time= 1.1min\n",
            "[CV 1/5] END ..C=1000, gamma=0.0001, kernel=rbf;, score=0.766 total time=  17.2s\n",
            "[CV 2/5] END ..C=1000, gamma=0.0001, kernel=rbf;, score=0.761 total time=  18.6s\n",
            "[CV 3/5] END ..C=1000, gamma=0.0001, kernel=rbf;, score=0.755 total time=  26.6s\n",
            "[CV 4/5] END ..C=1000, gamma=0.0001, kernel=rbf;, score=0.761 total time=  24.6s\n",
            "[CV 5/5] END ..C=1000, gamma=0.0001, kernel=rbf;, score=0.758 total time=  18.5s\n",
            "{'C': 1000, 'gamma': 0.001, 'kernel': 'rbf'}\n",
            "SVC(C=1000, gamma=0.001, random_state=0)\n",
            "Accuracy : 0.7405303387751251\n",
            "Precision, Recall, F1:               precision    recall  f1-score   support\n",
            "\n",
            "       False       0.96      0.73      0.83     45994\n",
            "        True       0.31      0.82      0.45      6991\n",
            "\n",
            "    accuracy                           0.74     52985\n",
            "   macro avg       0.64      0.77      0.64     52985\n",
            "weighted avg       0.88      0.74      0.78     52985\n",
            "\n",
            "AUROC : 0.7736421025530766\n",
            "\n"
          ]
        }
      ],
      "source": [
        "#Membuat model\n",
        "model = SVC(kernel=\"rbf\", random_state=0)\n",
        "#Membuat parameter\n",
        "# param = {\"C\": [0.1, 1, 10, 100, 1000], \"gamma\": [1, 0.1, 0.01, 0.001, 0.0001], \"kernel\": [\"rbf\"], \"probability\":True}\n",
        "param = {\"C\": [0.1, 1, 10, 100, 1000], \"gamma\": [1, 0.1, 0.01, 0.001, 0.0001], \"kernel\": [\"rbf\"]}\n",
        "#Membuat grid search\n",
        "grid = GridSearchCV(model, param, refit=True, verbose=3)\n",
        "#Melatih model\n",
        "grid.fit(X_train, y_train)\n",
        "#Menampilkan hasil terbaik\n",
        "print(grid.best_params_)\n",
        "print(grid.best_estimator_)\n",
        "#Menampilkan hasil prediksi\n",
        "grid_predictions = grid.predict(X_test)\n",
        "print(\"Accuracy :\", accuracy_score(y_test, grid_predictions))\n",
        "print(\"Precision, Recall, F1:\", classification_report(y_test, grid_predictions))\n",
        "print(\"AUROC :\", roc_auc_score(y_test, grid_predictions))\n",
        "print(\"\")"
      ]
    },
    {
      "cell_type": "markdown",
      "metadata": {
        "id": "DPf3iFn_VcFA"
      },
      "source": [
        "## 3. Improvement (Soft Voting, Hard Voting, Stacking)"
      ]
    },
    {
      "cell_type": "markdown",
      "metadata": {
        "id": "eyie2BuFWWDN"
      },
      "source": [
        "Persiapan Model Gabungan"
      ]
    },
    {
      "cell_type": "code",
      "execution_count": 19,
      "metadata": {
        "id": "RA5L_6pVWxcX"
      },
      "outputs": [],
      "source": [
        "logRegModel = LogisticRegression()\n",
        "svmModel = SVC(C=0.1, gamma=0.001, random_state=0, probability=True)\n",
        "models = [('lr',logRegModel),('svm',svmModel)]"
      ]
    },
    {
      "cell_type": "markdown",
      "metadata": {
        "id": "eeAJYWJUV1LG"
      },
      "source": [
        "Soft Voting"
      ]
    },
    {
      "cell_type": "code",
      "execution_count": 13,
      "metadata": {
        "id": "DOnt2pmIVtqU"
      },
      "outputs": [
        {
          "name": "stdout",
          "output_type": "stream",
          "text": [
            "Accuracy:  0.7120411437199208\n",
            "Precision, Recall, F1:\n",
            "              precision    recall  f1-score   support\n",
            "\n",
            "       False       0.95      0.70      0.81     36791\n",
            "        True       0.28      0.78      0.42      5597\n",
            "\n",
            "    accuracy                           0.71     42388\n",
            "   macro avg       0.62      0.74      0.61     42388\n",
            "weighted avg       0.87      0.71      0.76     42388\n",
            "\n",
            "AUROC : 0.8176940802643484\n",
            "Confusion Matrix:\n"
          ]
        },
        {
          "data": {
            "image/png": "[encoded data removed]",
            "text/plain": [
              "<Figure size 432x288 with 2 Axes>"
            ]
          },
          "metadata": {
            "needs_background": "light"
          },
          "output_type": "display_data"
        }
      ],
      "source": [
        "softVoting = VotingClassifier(estimators=models, voting='soft')\n",
        "model_fit(softVoting)\n",
        "score(softVoting)"
      ]
    },
    {
      "cell_type": "markdown",
      "metadata": {
        "id": "t0HwStjMbH7z"
      },
      "source": [
        "Hard Voting"
      ]
    },
    {
      "cell_type": "code",
      "execution_count": 20,
      "metadata": {
        "id": "aDTXaYHFbKi7"
      },
      "outputs": [
        {
          "name": "stdout",
          "output_type": "stream",
          "text": [
            "Accuracy:  0.7308672265735585\n",
            "Precision, Recall, F1:\n",
            "              precision    recall  f1-score   support\n",
            "\n",
            "       False       0.95      0.73      0.82     36791\n",
            "        True       0.29      0.74      0.42      5597\n",
            "\n",
            "    accuracy                           0.73     42388\n",
            "   macro avg       0.62      0.73      0.62     42388\n",
            "weighted avg       0.86      0.73      0.77     42388\n",
            "\n"
          ]
        },
        {
          "ename": "AttributeError",
          "evalue": "predict_proba is not available when voting='hard'",
          "output_type": "error",
          "traceback": [
            "\u001b[1;31m---------------------------------------------------------------------------\u001b[0m",
            "\u001b[1;31mAttributeError\u001b[0m                            Traceback (most recent call last)",
            "\u001b[1;32mc:\\Users\\Igen\\Downloads\\IF3270_Praktikum_20230417(undersamp).ipynb Cell 42\u001b[0m in \u001b[0;36m<cell line: 3>\u001b[1;34m()\u001b[0m\n\u001b[0;32m      <a href='vscode-notebook-cell:/c%3A/Users/Igen/Downloads/IF3270_Praktikum_20230417%28undersamp%29.ipynb#X56sZmlsZQ%3D%3D?line=0'>1</a>\u001b[0m hardVoting \u001b[39m=\u001b[39m VotingClassifier(estimators\u001b[39m=\u001b[39mmodels, voting\u001b[39m=\u001b[39m\u001b[39m'\u001b[39m\u001b[39mhard\u001b[39m\u001b[39m'\u001b[39m)\n\u001b[0;32m      <a href='vscode-notebook-cell:/c%3A/Users/Igen/Downloads/IF3270_Praktikum_20230417%28undersamp%29.ipynb#X56sZmlsZQ%3D%3D?line=1'>2</a>\u001b[0m model_fit(hardVoting)\n\u001b[1;32m----> <a href='vscode-notebook-cell:/c%3A/Users/Igen/Downloads/IF3270_Praktikum_20230417%28undersamp%29.ipynb#X56sZmlsZQ%3D%3D?line=2'>3</a>\u001b[0m score(hardVoting)\n",
            "\u001b[1;32mc:\\Users\\Igen\\Downloads\\IF3270_Praktikum_20230417(undersamp).ipynb Cell 42\u001b[0m in \u001b[0;36mscore\u001b[1;34m(model)\u001b[0m\n\u001b[0;32m      <a href='vscode-notebook-cell:/c%3A/Users/Igen/Downloads/IF3270_Praktikum_20230417%28undersamp%29.ipynb#X56sZmlsZQ%3D%3D?line=8'>9</a>\u001b[0m \u001b[39mprint\u001b[39m(\u001b[39m\"\u001b[39m\u001b[39mPrecision, Recall, F1:\u001b[39m\u001b[39m\"\u001b[39m)\n\u001b[0;32m     <a href='vscode-notebook-cell:/c%3A/Users/Igen/Downloads/IF3270_Praktikum_20230417%28undersamp%29.ipynb#X56sZmlsZQ%3D%3D?line=9'>10</a>\u001b[0m \u001b[39mprint\u001b[39m(classification_report(y_val, y_pred))\n\u001b[1;32m---> <a href='vscode-notebook-cell:/c%3A/Users/Igen/Downloads/IF3270_Praktikum_20230417%28undersamp%29.ipynb#X56sZmlsZQ%3D%3D?line=10'>11</a>\u001b[0m \u001b[39mprint\u001b[39m(\u001b[39m\"\u001b[39m\u001b[39mAUROC :\u001b[39m\u001b[39m\"\u001b[39m, roc_auc_score(y_test, model\u001b[39m.\u001b[39;49mpredict_proba(X_test)[:,\u001b[39m1\u001b[39m]))\n\u001b[0;32m     <a href='vscode-notebook-cell:/c%3A/Users/Igen/Downloads/IF3270_Praktikum_20230417%28undersamp%29.ipynb#X56sZmlsZQ%3D%3D?line=12'>13</a>\u001b[0m \u001b[39mprint\u001b[39m(\u001b[39m\"\u001b[39m\u001b[39mConfusion Matrix:\u001b[39m\u001b[39m\"\u001b[39m)\n\u001b[0;32m     <a href='vscode-notebook-cell:/c%3A/Users/Igen/Downloads/IF3270_Praktikum_20230417%28undersamp%29.ipynb#X56sZmlsZQ%3D%3D?line=13'>14</a>\u001b[0m ax\u001b[39m=\u001b[39m plt\u001b[39m.\u001b[39msubplot()\n",
            "File \u001b[1;32mc:\\Python310\\lib\\site-packages\\sklearn\\utils\\metaestimators.py:109\u001b[0m, in \u001b[0;36m_AvailableIfDescriptor.__get__\u001b[1;34m(self, obj, owner)\u001b[0m\n\u001b[0;32m    103\u001b[0m attr_err \u001b[39m=\u001b[39m \u001b[39mAttributeError\u001b[39;00m(\n\u001b[0;32m    104\u001b[0m     \u001b[39mf\u001b[39m\u001b[39m\"\u001b[39m\u001b[39mThis \u001b[39m\u001b[39m{\u001b[39;00m\u001b[39mrepr\u001b[39m(owner\u001b[39m.\u001b[39m\u001b[39m__name__\u001b[39m)\u001b[39m}\u001b[39;00m\u001b[39m has no attribute \u001b[39m\u001b[39m{\u001b[39;00m\u001b[39mrepr\u001b[39m(\u001b[39mself\u001b[39m\u001b[39m.\u001b[39mattribute_name)\u001b[39m}\u001b[39;00m\u001b[39m\"\u001b[39m\n\u001b[0;32m    105\u001b[0m )\n\u001b[0;32m    106\u001b[0m \u001b[39mif\u001b[39;00m obj \u001b[39mis\u001b[39;00m \u001b[39mnot\u001b[39;00m \u001b[39mNone\u001b[39;00m:\n\u001b[0;32m    107\u001b[0m     \u001b[39m# delegate only on instances, not the classes.\u001b[39;00m\n\u001b[0;32m    108\u001b[0m     \u001b[39m# this is to allow access to the docstrings.\u001b[39;00m\n\u001b[1;32m--> 109\u001b[0m     \u001b[39mif\u001b[39;00m \u001b[39mnot\u001b[39;00m \u001b[39mself\u001b[39;49m\u001b[39m.\u001b[39;49mcheck(obj):\n\u001b[0;32m    110\u001b[0m         \u001b[39mraise\u001b[39;00m attr_err\n\u001b[0;32m    112\u001b[0m     \u001b[39m# lambda, but not partial, allows help() to work with update_wrapper\u001b[39;00m\n",
            "File \u001b[1;32mc:\\Python310\\lib\\site-packages\\sklearn\\ensemble\\_voting.py:361\u001b[0m, in \u001b[0;36mVotingClassifier._check_voting\u001b[1;34m(self)\u001b[0m\n\u001b[0;32m    359\u001b[0m \u001b[39mdef\u001b[39;00m \u001b[39m_check_voting\u001b[39m(\u001b[39mself\u001b[39m):\n\u001b[0;32m    360\u001b[0m     \u001b[39mif\u001b[39;00m \u001b[39mself\u001b[39m\u001b[39m.\u001b[39mvoting \u001b[39m==\u001b[39m \u001b[39m\"\u001b[39m\u001b[39mhard\u001b[39m\u001b[39m\"\u001b[39m:\n\u001b[1;32m--> 361\u001b[0m         \u001b[39mraise\u001b[39;00m \u001b[39mAttributeError\u001b[39;00m(\n\u001b[0;32m    362\u001b[0m             \u001b[39mf\u001b[39m\u001b[39m\"\u001b[39m\u001b[39mpredict_proba is not available when voting=\u001b[39m\u001b[39m{\u001b[39;00m\u001b[39mrepr\u001b[39m(\u001b[39mself\u001b[39m\u001b[39m.\u001b[39mvoting)\u001b[39m}\u001b[39;00m\u001b[39m\"\u001b[39m\n\u001b[0;32m    363\u001b[0m         )\n\u001b[0;32m    364\u001b[0m     \u001b[39mreturn\u001b[39;00m \u001b[39mTrue\u001b[39;00m\n",
            "\u001b[1;31mAttributeError\u001b[0m: predict_proba is not available when voting='hard'"
          ]
        }
      ],
      "source": [
        "hardVoting = VotingClassifier(estimators=models, voting='hard')\n",
        "model_fit(hardVoting)\n",
        "score(hardVoting)"
      ]
    },
    {
      "cell_type": "markdown",
      "metadata": {
        "id": "d2DTmgQjbPbX"
      },
      "source": [
        "Stacking"
      ]
    },
    {
      "cell_type": "code",
      "execution_count": null,
      "metadata": {
        "id": "7AlFoeobbQpO"
      },
      "outputs": [],
      "source": [
        "stacking = StackingClassifier(estimators=models, final_estimator=LogisticRegression())\n",
        "model_fit(hardVoting)\n",
        "score(hardVoting)"
      ]
    }
  ],
  "metadata": {
    "accelerator": "GPU",
    "colab": {
      "provenance": []
    },
    "gpuClass": "standard",
    "kernelspec": {
      "display_name": "Python 3 (ipykernel)",
      "language": "python",
      "name": "python3"
    },
    "language_info": {
      "codemirror_mode": {
        "name": "ipython",
        "version": 3
      },
      "file_extension": ".py",
      "mimetype": "text/x-python",
      "name": "python",
      "nbconvert_exporter": "python",
      "pygments_lexer": "ipython3",
      "version": "3.10.2"
    }
  },
  "nbformat": 4,
  "nbformat_minor": 0
}
